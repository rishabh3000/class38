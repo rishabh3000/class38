{
 "cells": [
  {
   "cell_type": "code",
   "execution_count": 6,
   "metadata": {},
   "outputs": [],
   "source": [
    "class myclass():\n",
    "    def method(self):\n",
    "        print('myclass method1')\n",
    "        \n",
    "        \n",
    "        \n",
    "        \n",
    "def main():\n",
    "   \n",
    "\n",
    " if __name__=='__main__':\n",
    "    main()   \n",
    "    "
   ]
  },
  {
   "cell_type": "code",
   "execution_count": 4,
   "metadata": {},
   "outputs": [
    {
     "name": "stdout",
     "output_type": "stream",
     "text": [
      "AST\n",
      "AST\n",
      "AST\n",
      "AST\n",
      "AST\n",
      "AST\n"
     ]
    }
   ],
   "source": [
    "for i in range(0,6):\n",
    "    print('AST')"
   ]
  },
  {
   "cell_type": "code",
   "execution_count": null,
   "metadata": {},
   "outputs": [],
   "source": []
  }
 ],
 "metadata": {
  "kernelspec": {
   "display_name": "Python 3",
   "language": "python",
   "name": "python3"
  },
  "language_info": {
   "codemirror_mode": {
    "name": "ipython",
    "version": 3
   },
   "file_extension": ".py",
   "mimetype": "text/x-python",
   "name": "python",
   "nbconvert_exporter": "python",
   "pygments_lexer": "ipython3",
   "version": "3.8.3"
  }
 },
 "nbformat": 4,
 "nbformat_minor": 4
}
